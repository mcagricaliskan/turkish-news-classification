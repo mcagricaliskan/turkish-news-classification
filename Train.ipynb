{
 "cells": [
  {
   "cell_type": "code",
   "execution_count": 1,
   "metadata": {},
   "outputs": [],
   "source": [
    "import json \n",
    "\n",
    "# loadijg dataset\n",
    "dataset = json.load(open(\"Dataset/tf-idf-dataset.json\", \"r\"))"
   ]
  },
  {
   "cell_type": "code",
   "execution_count": 2,
   "metadata": {},
   "outputs": [
    {
     "name": "stdout",
     "output_type": "stream",
     "text": [
      "total dataset length: 42663\n"
     ]
    }
   ],
   "source": [
    "import numpy as np\n",
    "\n",
    "from sklearn.model_selection import train_test_split\n",
    "\n",
    "\n",
    "X = []\n",
    "y = []\n",
    "classes = dataset[\"ClassNames\"]\n",
    "\n",
    "# extracting X and y from json dataset\n",
    "for data in dataset[\"Dataset\"]:\n",
    "    X.append(data[\"x\"])\n",
    "    y.append(data[\"y\"])\n",
    "\n",
    "print(f\"total dataset length: {len(X)}\")\n",
    "\n",
    "X = np.array(X)\n",
    "y = np.array(y)\n",
    "\n",
    "# spliting dataset\n",
    "x_train, x_test, y_train, y_test = train_test_split(X, y, test_size=0.3, random_state=42)\n"
   ]
  },
  {
   "cell_type": "code",
   "execution_count": 3,
   "metadata": {},
   "outputs": [
    {
     "name": "stdout",
     "output_type": "stream",
     "text": [
      "(29864, 5000)\n",
      "(29864, 8)\n"
     ]
    }
   ],
   "source": [
    "print(x_train.shape)\n",
    "print(y_train.shape)"
   ]
  },
  {
   "cell_type": "code",
   "execution_count": 4,
   "metadata": {},
   "outputs": [],
   "source": [
    "\n",
    "import matplotlib.pyplot as plt\n",
    "import seaborn as sns"
   ]
  },
  {
   "cell_type": "code",
   "execution_count": 5,
   "metadata": {},
   "outputs": [
    {
     "name": "stdout",
     "output_type": "stream",
     "text": [
      "Model: \"sequential\"\n",
      "_________________________________________________________________\n",
      " Layer (type)                Output Shape              Param #   \n",
      "=================================================================\n",
      " dense (Dense)               (None, 1000)              5001000   \n",
      "                                                                 \n",
      " activation (Activation)     (None, 1000)              0         \n",
      "                                                                 \n",
      " dense_1 (Dense)             (None, 500)               500500    \n",
      "                                                                 \n",
      " activation_1 (Activation)   (None, 500)               0         \n",
      "                                                                 \n",
      " dense_2 (Dense)             (None, 200)               100200    \n",
      "                                                                 \n",
      " activation_2 (Activation)   (None, 200)               0         \n",
      "                                                                 \n",
      " dense_3 (Dense)             (None, 8)                 1608      \n",
      "                                                                 \n",
      " activation_3 (Activation)   (None, 8)                 0         \n",
      "                                                                 \n",
      "=================================================================\n",
      "Total params: 5,603,308\n",
      "Trainable params: 5,603,308\n",
      "Non-trainable params: 0\n",
      "_________________________________________________________________\n",
      "None\n",
      "Epoch 1/10\n",
      "234/234 [==============================] - 3s 8ms/step - loss: 0.5030 - accuracy: 0.8383 - val_loss: 0.3614 - val_accuracy: 0.8756\n",
      "Epoch 2/10\n",
      "234/234 [==============================] - 1s 6ms/step - loss: 0.2130 - accuracy: 0.9251 - val_loss: 0.3932 - val_accuracy: 0.8701\n",
      "Epoch 3/10\n",
      "234/234 [==============================] - 2s 7ms/step - loss: 0.1043 - accuracy: 0.9648 - val_loss: 0.4738 - val_accuracy: 0.8657\n",
      "Epoch 4/10\n",
      "234/234 [==============================] - 1s 6ms/step - loss: 0.0460 - accuracy: 0.9847 - val_loss: 0.6057 - val_accuracy: 0.8676\n",
      "Epoch 5/10\n",
      "234/234 [==============================] - 1s 6ms/step - loss: 0.0286 - accuracy: 0.9908 - val_loss: 0.6796 - val_accuracy: 0.8662\n",
      "Epoch 6/10\n",
      "234/234 [==============================] - 1s 6ms/step - loss: 0.0189 - accuracy: 0.9933 - val_loss: 0.7611 - val_accuracy: 0.8644\n",
      "Epoch 7/10\n",
      "234/234 [==============================] - 1s 6ms/step - loss: 0.0135 - accuracy: 0.9953 - val_loss: 0.7901 - val_accuracy: 0.8668\n",
      "Epoch 8/10\n",
      "234/234 [==============================] - 1s 6ms/step - loss: 0.0092 - accuracy: 0.9960 - val_loss: 0.8493 - val_accuracy: 0.8644\n",
      "Epoch 9/10\n",
      "234/234 [==============================] - 1s 6ms/step - loss: 0.0065 - accuracy: 0.9965 - val_loss: 0.8975 - val_accuracy: 0.8662\n",
      "Epoch 10/10\n",
      "234/234 [==============================] - 1s 6ms/step - loss: 0.0045 - accuracy: 0.9976 - val_loss: 0.9591 - val_accuracy: 0.8662\n"
     ]
    }
   ],
   "source": [
    "## training ANN with keras\n",
    "\n",
    "from keras.models import Sequential, load_model\n",
    "from keras.layers.core import Dense, Dropout, Activation\n",
    "\n",
    "\n",
    "model = Sequential()\n",
    "model.add(Dense(1000, input_shape=(5000,)))\n",
    "model.add(Activation('relu'))\n",
    "model.add(Dense(500))\n",
    "model.add(Activation('relu'))\n",
    "model.add(Dense(200))\n",
    "model.add(Activation('relu'))\n",
    "model.add(Dense(len(classes))) # output layer\n",
    "model.add(Activation('softmax'))\n",
    "model.compile(loss='categorical_crossentropy', optimizer='adam', metrics=['accuracy'])\n",
    "print(model.summary())\n",
    "\n",
    "model.fit(x_train, y_train, validation_data=(x_test, y_test), batch_size=128, epochs=10, verbose=1)\n",
    "model.save(f\"Models/keras_ann_v1.h5\")\n"
   ]
  },
  {
   "cell_type": "code",
   "execution_count": 13,
   "metadata": {},
   "outputs": [],
   "source": [
    "# getting y_red for x_test i want to see test set precission, classification_report and confusion_matrix\n",
    "y_pred = model.predict(x_test, batch_size=128)\n",
    "y_pred_1d = y_pred.argmax(1)\n",
    "y_test_1d = y_test.argmax(1)\n"
   ]
  },
  {
   "cell_type": "code",
   "execution_count": 22,
   "metadata": {},
   "outputs": [
    {
     "name": "stdout",
     "output_type": "stream",
     "text": [
      "              precision    recall  f1-score   support\n",
      "\n",
      "  Automobile       0.94      0.94      0.94      1603\n",
      "      Living       0.68      0.75      0.71      1459\n",
      "      Health       0.88      0.87      0.87      1605\n",
      "       Daily       0.79      0.71      0.75      1808\n",
      "       Sport       0.94      0.93      0.94      1605\n",
      "  Technology       0.91      0.93      0.92      1543\n",
      "     Economy       0.85      0.87      0.86      1575\n",
      "    Magazine       0.95      0.94      0.94      1601\n",
      "\n",
      "    accuracy                           0.87     12799\n",
      "   macro avg       0.87      0.87      0.87     12799\n",
      "weighted avg       0.87      0.87      0.87     12799\n",
      "\n",
      "[[1511    9    2   12    4   44   21    0]\n",
      " [  12 1096  112  129   25   19   46   20]\n",
      " [   0  128 1403   31    2   20   12    9]\n",
      " [  20  229   47 1279   41   18  137   37]\n",
      " [   8   44    1   37 1500    5    4    6]\n",
      " [  30   26   11   12    2 1429   29    4]\n",
      " [  21   53   14   91    5   22 1364    5]\n",
      " [   2   29   12   24   23    5    1 1505]]\n"
     ]
    }
   ],
   "source": [
    "from sklearn.metrics import accuracy_score, confusion_matrix, classification_report\n",
    "\n",
    "# np.argmax() gets max argument index of y list\n",
    "# example argmax to [0, 0, 1, 0] result will be 2 (class index) \n",
    "print(f\"{classification_report(y_pred_1d, y_test_1d, target_names=classes)}\")\n",
    "# print(f\"Accuracy for x_test: {accuracy_score}\")\n",
    "print(confusion_matrix(y_pred_1d, y_test_1d))\n",
    "# print(f1_score())"
   ]
  },
  {
   "cell_type": "code",
   "execution_count": 39,
   "metadata": {},
   "outputs": [
    {
     "name": "stdout",
     "output_type": "stream",
     "text": [
      "[6 5 7 ... 4 4 7]\n"
     ]
    },
    {
     "ename": "AttributeError",
     "evalue": "'QuadMesh' object has no property 'xticklables'",
     "output_type": "error",
     "traceback": [
      "\u001b[1;31m---------------------------------------------------------------------------\u001b[0m",
      "\u001b[1;31mAttributeError\u001b[0m                            Traceback (most recent call last)",
      "\u001b[1;32mc:\\Users\\mehmet\\Desktop\\Engineering\\MLE\\Projects\\Turkish-News-Classification\\Train.ipynb Cell 8'\u001b[0m in \u001b[0;36m<cell line: 9>\u001b[1;34m()\u001b[0m\n\u001b[0;32m      <a href='vscode-notebook-cell:/c%3A/Users/mehmet/Desktop/Engineering/MLE/Projects/Turkish-News-Classification/Train.ipynb#ch0000007?line=6'>7</a>\u001b[0m confusion_matrix \u001b[39m=\u001b[39m pd\u001b[39m.\u001b[39mcrosstab(y_test_1d, y_pred_1d, rownames\u001b[39m=\u001b[39m[\u001b[39m'\u001b[39m\u001b[39mActual\u001b[39m\u001b[39m'\u001b[39m], colnames\u001b[39m=\u001b[39m[\u001b[39m'\u001b[39m\u001b[39mPredicted\u001b[39m\u001b[39m'\u001b[39m])\n\u001b[0;32m      <a href='vscode-notebook-cell:/c%3A/Users/mehmet/Desktop/Engineering/MLE/Projects/Turkish-News-Classification/Train.ipynb#ch0000007?line=7'>8</a>\u001b[0m plt\u001b[39m.\u001b[39mfigure(figsize\u001b[39m=\u001b[39m(\u001b[39m12\u001b[39m, \u001b[39m12\u001b[39m))\n\u001b[1;32m----> <a href='vscode-notebook-cell:/c%3A/Users/mehmet/Desktop/Engineering/MLE/Projects/Turkish-News-Classification/Train.ipynb#ch0000007?line=8'>9</a>\u001b[0m sn\u001b[39m.\u001b[39mheatmap(confusion_matrix, annot\u001b[39m=\u001b[39m\u001b[39mTrue\u001b[39;00m, xticklables\u001b[39m=\u001b[39mclasses)\n\u001b[0;32m     <a href='vscode-notebook-cell:/c%3A/Users/mehmet/Desktop/Engineering/MLE/Projects/Turkish-News-Classification/Train.ipynb#ch0000007?line=9'>10</a>\u001b[0m plt\u001b[39m.\u001b[39mshow()\n",
      "File \u001b[1;32mc:\\Users\\mehmet\\Desktop\\Engineering\\MLE\\Projects\\Turkish-News-Classification\\venv\\lib\\site-packages\\seaborn\\_decorators.py:46\u001b[0m, in \u001b[0;36m_deprecate_positional_args.<locals>.inner_f\u001b[1;34m(*args, **kwargs)\u001b[0m\n\u001b[0;32m     <a href='file:///c%3A/Users/mehmet/Desktop/Engineering/MLE/Projects/Turkish-News-Classification/venv/lib/site-packages/seaborn/_decorators.py?line=35'>36</a>\u001b[0m     warnings\u001b[39m.\u001b[39mwarn(\n\u001b[0;32m     <a href='file:///c%3A/Users/mehmet/Desktop/Engineering/MLE/Projects/Turkish-News-Classification/venv/lib/site-packages/seaborn/_decorators.py?line=36'>37</a>\u001b[0m         \u001b[39m\"\u001b[39m\u001b[39mPass the following variable\u001b[39m\u001b[39m{}\u001b[39;00m\u001b[39m as \u001b[39m\u001b[39m{}\u001b[39;00m\u001b[39mkeyword arg\u001b[39m\u001b[39m{}\u001b[39;00m\u001b[39m: \u001b[39m\u001b[39m{}\u001b[39;00m\u001b[39m. \u001b[39m\u001b[39m\"\u001b[39m\n\u001b[0;32m     <a href='file:///c%3A/Users/mehmet/Desktop/Engineering/MLE/Projects/Turkish-News-Classification/venv/lib/site-packages/seaborn/_decorators.py?line=37'>38</a>\u001b[0m         \u001b[39m\"\u001b[39m\u001b[39mFrom version 0.12, the only valid positional argument \u001b[39m\u001b[39m\"\u001b[39m\n\u001b[1;32m   (...)\u001b[0m\n\u001b[0;32m     <a href='file:///c%3A/Users/mehmet/Desktop/Engineering/MLE/Projects/Turkish-News-Classification/venv/lib/site-packages/seaborn/_decorators.py?line=42'>43</a>\u001b[0m         \u001b[39mFutureWarning\u001b[39;00m\n\u001b[0;32m     <a href='file:///c%3A/Users/mehmet/Desktop/Engineering/MLE/Projects/Turkish-News-Classification/venv/lib/site-packages/seaborn/_decorators.py?line=43'>44</a>\u001b[0m     )\n\u001b[0;32m     <a href='file:///c%3A/Users/mehmet/Desktop/Engineering/MLE/Projects/Turkish-News-Classification/venv/lib/site-packages/seaborn/_decorators.py?line=44'>45</a>\u001b[0m kwargs\u001b[39m.\u001b[39mupdate({k: arg \u001b[39mfor\u001b[39;00m k, arg \u001b[39min\u001b[39;00m \u001b[39mzip\u001b[39m(sig\u001b[39m.\u001b[39mparameters, args)})\n\u001b[1;32m---> <a href='file:///c%3A/Users/mehmet/Desktop/Engineering/MLE/Projects/Turkish-News-Classification/venv/lib/site-packages/seaborn/_decorators.py?line=45'>46</a>\u001b[0m \u001b[39mreturn\u001b[39;00m f(\u001b[39m*\u001b[39m\u001b[39m*\u001b[39mkwargs)\n",
      "File \u001b[1;32mc:\\Users\\mehmet\\Desktop\\Engineering\\MLE\\Projects\\Turkish-News-Classification\\venv\\lib\\site-packages\\seaborn\\matrix.py:553\u001b[0m, in \u001b[0;36mheatmap\u001b[1;34m(data, vmin, vmax, cmap, center, robust, annot, fmt, annot_kws, linewidths, linecolor, cbar, cbar_kws, cbar_ax, square, xticklabels, yticklabels, mask, ax, **kwargs)\u001b[0m\n\u001b[0;32m    <a href='file:///c%3A/Users/mehmet/Desktop/Engineering/MLE/Projects/Turkish-News-Classification/venv/lib/site-packages/seaborn/matrix.py?line=550'>551</a>\u001b[0m \u001b[39mif\u001b[39;00m square:\n\u001b[0;32m    <a href='file:///c%3A/Users/mehmet/Desktop/Engineering/MLE/Projects/Turkish-News-Classification/venv/lib/site-packages/seaborn/matrix.py?line=551'>552</a>\u001b[0m     ax\u001b[39m.\u001b[39mset_aspect(\u001b[39m\"\u001b[39m\u001b[39mequal\u001b[39m\u001b[39m\"\u001b[39m)\n\u001b[1;32m--> <a href='file:///c%3A/Users/mehmet/Desktop/Engineering/MLE/Projects/Turkish-News-Classification/venv/lib/site-packages/seaborn/matrix.py?line=552'>553</a>\u001b[0m plotter\u001b[39m.\u001b[39;49mplot(ax, cbar_ax, kwargs)\n\u001b[0;32m    <a href='file:///c%3A/Users/mehmet/Desktop/Engineering/MLE/Projects/Turkish-News-Classification/venv/lib/site-packages/seaborn/matrix.py?line=553'>554</a>\u001b[0m \u001b[39mreturn\u001b[39;00m ax\n",
      "File \u001b[1;32mc:\\Users\\mehmet\\Desktop\\Engineering\\MLE\\Projects\\Turkish-News-Classification\\venv\\lib\\site-packages\\seaborn\\matrix.py:302\u001b[0m, in \u001b[0;36m_HeatMapper.plot\u001b[1;34m(self, ax, cax, kws)\u001b[0m\n\u001b[0;32m    <a href='file:///c%3A/Users/mehmet/Desktop/Engineering/MLE/Projects/Turkish-News-Classification/venv/lib/site-packages/seaborn/matrix.py?line=298'>299</a>\u001b[0m     kws\u001b[39m.\u001b[39msetdefault(\u001b[39m\"\u001b[39m\u001b[39mvmax\u001b[39m\u001b[39m\"\u001b[39m, \u001b[39mself\u001b[39m\u001b[39m.\u001b[39mvmax)\n\u001b[0;32m    <a href='file:///c%3A/Users/mehmet/Desktop/Engineering/MLE/Projects/Turkish-News-Classification/venv/lib/site-packages/seaborn/matrix.py?line=300'>301</a>\u001b[0m \u001b[39m# Draw the heatmap\u001b[39;00m\n\u001b[1;32m--> <a href='file:///c%3A/Users/mehmet/Desktop/Engineering/MLE/Projects/Turkish-News-Classification/venv/lib/site-packages/seaborn/matrix.py?line=301'>302</a>\u001b[0m mesh \u001b[39m=\u001b[39m ax\u001b[39m.\u001b[39mpcolormesh(\u001b[39mself\u001b[39m\u001b[39m.\u001b[39mplot_data, cmap\u001b[39m=\u001b[39m\u001b[39mself\u001b[39m\u001b[39m.\u001b[39mcmap, \u001b[39m*\u001b[39m\u001b[39m*\u001b[39mkws)\n\u001b[0;32m    <a href='file:///c%3A/Users/mehmet/Desktop/Engineering/MLE/Projects/Turkish-News-Classification/venv/lib/site-packages/seaborn/matrix.py?line=303'>304</a>\u001b[0m \u001b[39m# Set the axis limits\u001b[39;00m\n\u001b[0;32m    <a href='file:///c%3A/Users/mehmet/Desktop/Engineering/MLE/Projects/Turkish-News-Classification/venv/lib/site-packages/seaborn/matrix.py?line=304'>305</a>\u001b[0m ax\u001b[39m.\u001b[39mset(xlim\u001b[39m=\u001b[39m(\u001b[39m0\u001b[39m, \u001b[39mself\u001b[39m\u001b[39m.\u001b[39mdata\u001b[39m.\u001b[39mshape[\u001b[39m1\u001b[39m]), ylim\u001b[39m=\u001b[39m(\u001b[39m0\u001b[39m, \u001b[39mself\u001b[39m\u001b[39m.\u001b[39mdata\u001b[39m.\u001b[39mshape[\u001b[39m0\u001b[39m]))\n",
      "File \u001b[1;32mc:\\Users\\mehmet\\Desktop\\Engineering\\MLE\\Projects\\Turkish-News-Classification\\venv\\lib\\site-packages\\matplotlib\\__init__.py:1412\u001b[0m, in \u001b[0;36m_preprocess_data.<locals>.inner\u001b[1;34m(ax, data, *args, **kwargs)\u001b[0m\n\u001b[0;32m   <a href='file:///c%3A/Users/mehmet/Desktop/Engineering/MLE/Projects/Turkish-News-Classification/venv/lib/site-packages/matplotlib/__init__.py?line=1408'>1409</a>\u001b[0m \u001b[39m@functools\u001b[39m\u001b[39m.\u001b[39mwraps(func)\n\u001b[0;32m   <a href='file:///c%3A/Users/mehmet/Desktop/Engineering/MLE/Projects/Turkish-News-Classification/venv/lib/site-packages/matplotlib/__init__.py?line=1409'>1410</a>\u001b[0m \u001b[39mdef\u001b[39;00m \u001b[39minner\u001b[39m(ax, \u001b[39m*\u001b[39margs, data\u001b[39m=\u001b[39m\u001b[39mNone\u001b[39;00m, \u001b[39m*\u001b[39m\u001b[39m*\u001b[39mkwargs):\n\u001b[0;32m   <a href='file:///c%3A/Users/mehmet/Desktop/Engineering/MLE/Projects/Turkish-News-Classification/venv/lib/site-packages/matplotlib/__init__.py?line=1410'>1411</a>\u001b[0m     \u001b[39mif\u001b[39;00m data \u001b[39mis\u001b[39;00m \u001b[39mNone\u001b[39;00m:\n\u001b[1;32m-> <a href='file:///c%3A/Users/mehmet/Desktop/Engineering/MLE/Projects/Turkish-News-Classification/venv/lib/site-packages/matplotlib/__init__.py?line=1411'>1412</a>\u001b[0m         \u001b[39mreturn\u001b[39;00m func(ax, \u001b[39m*\u001b[39m\u001b[39mmap\u001b[39m(sanitize_sequence, args), \u001b[39m*\u001b[39m\u001b[39m*\u001b[39mkwargs)\n\u001b[0;32m   <a href='file:///c%3A/Users/mehmet/Desktop/Engineering/MLE/Projects/Turkish-News-Classification/venv/lib/site-packages/matplotlib/__init__.py?line=1413'>1414</a>\u001b[0m     bound \u001b[39m=\u001b[39m new_sig\u001b[39m.\u001b[39mbind(ax, \u001b[39m*\u001b[39margs, \u001b[39m*\u001b[39m\u001b[39m*\u001b[39mkwargs)\n\u001b[0;32m   <a href='file:///c%3A/Users/mehmet/Desktop/Engineering/MLE/Projects/Turkish-News-Classification/venv/lib/site-packages/matplotlib/__init__.py?line=1414'>1415</a>\u001b[0m     auto_label \u001b[39m=\u001b[39m (bound\u001b[39m.\u001b[39marguments\u001b[39m.\u001b[39mget(label_namer)\n\u001b[0;32m   <a href='file:///c%3A/Users/mehmet/Desktop/Engineering/MLE/Projects/Turkish-News-Classification/venv/lib/site-packages/matplotlib/__init__.py?line=1415'>1416</a>\u001b[0m                   \u001b[39mor\u001b[39;00m bound\u001b[39m.\u001b[39mkwargs\u001b[39m.\u001b[39mget(label_namer))\n",
      "File \u001b[1;32mc:\\Users\\mehmet\\Desktop\\Engineering\\MLE\\Projects\\Turkish-News-Classification\\venv\\lib\\site-packages\\matplotlib\\axes\\_axes.py:6070\u001b[0m, in \u001b[0;36mAxes.pcolormesh\u001b[1;34m(self, alpha, norm, cmap, vmin, vmax, shading, antialiased, *args, **kwargs)\u001b[0m\n\u001b[0;32m   <a href='file:///c%3A/Users/mehmet/Desktop/Engineering/MLE/Projects/Turkish-News-Classification/venv/lib/site-packages/matplotlib/axes/_axes.py?line=6065'>6066</a>\u001b[0m C \u001b[39m=\u001b[39m C\u001b[39m.\u001b[39mravel()\n\u001b[0;32m   <a href='file:///c%3A/Users/mehmet/Desktop/Engineering/MLE/Projects/Turkish-News-Classification/venv/lib/site-packages/matplotlib/axes/_axes.py?line=6067'>6068</a>\u001b[0m kwargs\u001b[39m.\u001b[39msetdefault(\u001b[39m'\u001b[39m\u001b[39msnap\u001b[39m\u001b[39m'\u001b[39m, rcParams[\u001b[39m'\u001b[39m\u001b[39mpcolormesh.snap\u001b[39m\u001b[39m'\u001b[39m])\n\u001b[1;32m-> <a href='file:///c%3A/Users/mehmet/Desktop/Engineering/MLE/Projects/Turkish-News-Classification/venv/lib/site-packages/matplotlib/axes/_axes.py?line=6069'>6070</a>\u001b[0m collection \u001b[39m=\u001b[39m mcoll\u001b[39m.\u001b[39mQuadMesh(\n\u001b[0;32m   <a href='file:///c%3A/Users/mehmet/Desktop/Engineering/MLE/Projects/Turkish-News-Classification/venv/lib/site-packages/matplotlib/axes/_axes.py?line=6070'>6071</a>\u001b[0m     coords, antialiased\u001b[39m=\u001b[39mantialiased, shading\u001b[39m=\u001b[39mshading,\n\u001b[0;32m   <a href='file:///c%3A/Users/mehmet/Desktop/Engineering/MLE/Projects/Turkish-News-Classification/venv/lib/site-packages/matplotlib/axes/_axes.py?line=6071'>6072</a>\u001b[0m     array\u001b[39m=\u001b[39mC, cmap\u001b[39m=\u001b[39mcmap, norm\u001b[39m=\u001b[39mnorm, alpha\u001b[39m=\u001b[39malpha, \u001b[39m*\u001b[39m\u001b[39m*\u001b[39mkwargs)\n\u001b[0;32m   <a href='file:///c%3A/Users/mehmet/Desktop/Engineering/MLE/Projects/Turkish-News-Classification/venv/lib/site-packages/matplotlib/axes/_axes.py?line=6072'>6073</a>\u001b[0m collection\u001b[39m.\u001b[39m_scale_norm(norm, vmin, vmax)\n\u001b[0;32m   <a href='file:///c%3A/Users/mehmet/Desktop/Engineering/MLE/Projects/Turkish-News-Classification/venv/lib/site-packages/matplotlib/axes/_axes.py?line=6073'>6074</a>\u001b[0m \u001b[39mself\u001b[39m\u001b[39m.\u001b[39m_pcolor_grid_deprecation_helper()\n",
      "File \u001b[1;32mc:\\Users\\mehmet\\Desktop\\Engineering\\MLE\\Projects\\Turkish-News-Classification\\venv\\lib\\site-packages\\matplotlib\\collections.py:2016\u001b[0m, in \u001b[0;36mQuadMesh.__init__\u001b[1;34m(self, *args, **kwargs)\u001b[0m\n\u001b[0;32m   <a href='file:///c%3A/Users/mehmet/Desktop/Engineering/MLE/Projects/Turkish-News-Classification/venv/lib/site-packages/matplotlib/collections.py?line=2012'>2013</a>\u001b[0m \u001b[39mself\u001b[39m\u001b[39m.\u001b[39m_bbox\u001b[39m.\u001b[39mupdate_from_data_xy(\u001b[39mself\u001b[39m\u001b[39m.\u001b[39m_coordinates\u001b[39m.\u001b[39mreshape(\u001b[39m-\u001b[39m\u001b[39m1\u001b[39m, \u001b[39m2\u001b[39m))\n\u001b[0;32m   <a href='file:///c%3A/Users/mehmet/Desktop/Engineering/MLE/Projects/Turkish-News-Classification/venv/lib/site-packages/matplotlib/collections.py?line=2013'>2014</a>\u001b[0m \u001b[39m# super init delayed after own init because array kwarg requires\u001b[39;00m\n\u001b[0;32m   <a href='file:///c%3A/Users/mehmet/Desktop/Engineering/MLE/Projects/Turkish-News-Classification/venv/lib/site-packages/matplotlib/collections.py?line=2014'>2015</a>\u001b[0m \u001b[39m# self._coordinates and self._shading\u001b[39;00m\n\u001b[1;32m-> <a href='file:///c%3A/Users/mehmet/Desktop/Engineering/MLE/Projects/Turkish-News-Classification/venv/lib/site-packages/matplotlib/collections.py?line=2015'>2016</a>\u001b[0m \u001b[39msuper\u001b[39m()\u001b[39m.\u001b[39m\u001b[39m__init__\u001b[39m(\u001b[39m*\u001b[39m\u001b[39m*\u001b[39mkwargs)\n",
      "File \u001b[1;32mc:\\Users\\mehmet\\Desktop\\Engineering\\MLE\\Projects\\Turkish-News-Classification\\venv\\lib\\site-packages\\matplotlib\\collections.py:221\u001b[0m, in \u001b[0;36mCollection.__init__\u001b[1;34m(self, edgecolors, facecolors, linewidths, linestyles, capstyle, joinstyle, antialiaseds, offsets, transOffset, norm, cmap, pickradius, hatch, urls, zorder, **kwargs)\u001b[0m\n\u001b[0;32m    <a href='file:///c%3A/Users/mehmet/Desktop/Engineering/MLE/Projects/Turkish-News-Classification/venv/lib/site-packages/matplotlib/collections.py?line=217'>218</a>\u001b[0m \u001b[39mself\u001b[39m\u001b[39m.\u001b[39m_transOffset \u001b[39m=\u001b[39m transOffset\n\u001b[0;32m    <a href='file:///c%3A/Users/mehmet/Desktop/Engineering/MLE/Projects/Turkish-News-Classification/venv/lib/site-packages/matplotlib/collections.py?line=219'>220</a>\u001b[0m \u001b[39mself\u001b[39m\u001b[39m.\u001b[39m_path_effects \u001b[39m=\u001b[39m \u001b[39mNone\u001b[39;00m\n\u001b[1;32m--> <a href='file:///c%3A/Users/mehmet/Desktop/Engineering/MLE/Projects/Turkish-News-Classification/venv/lib/site-packages/matplotlib/collections.py?line=220'>221</a>\u001b[0m \u001b[39mself\u001b[39;49m\u001b[39m.\u001b[39;49mupdate(kwargs)\n\u001b[0;32m    <a href='file:///c%3A/Users/mehmet/Desktop/Engineering/MLE/Projects/Turkish-News-Classification/venv/lib/site-packages/matplotlib/collections.py?line=221'>222</a>\u001b[0m \u001b[39mself\u001b[39m\u001b[39m.\u001b[39m_paths \u001b[39m=\u001b[39m \u001b[39mNone\u001b[39;00m\n",
      "File \u001b[1;32mc:\\Users\\mehmet\\Desktop\\Engineering\\MLE\\Projects\\Turkish-News-Classification\\venv\\lib\\site-packages\\matplotlib\\artist.py:1064\u001b[0m, in \u001b[0;36mArtist.update\u001b[1;34m(self, props)\u001b[0m\n\u001b[0;32m   <a href='file:///c%3A/Users/mehmet/Desktop/Engineering/MLE/Projects/Turkish-News-Classification/venv/lib/site-packages/matplotlib/artist.py?line=1061'>1062</a>\u001b[0m             func \u001b[39m=\u001b[39m \u001b[39mgetattr\u001b[39m(\u001b[39mself\u001b[39m, \u001b[39mf\u001b[39m\u001b[39m\"\u001b[39m\u001b[39mset_\u001b[39m\u001b[39m{\u001b[39;00mk\u001b[39m}\u001b[39;00m\u001b[39m\"\u001b[39m, \u001b[39mNone\u001b[39;00m)\n\u001b[0;32m   <a href='file:///c%3A/Users/mehmet/Desktop/Engineering/MLE/Projects/Turkish-News-Classification/venv/lib/site-packages/matplotlib/artist.py?line=1062'>1063</a>\u001b[0m             \u001b[39mif\u001b[39;00m \u001b[39mnot\u001b[39;00m callable(func):\n\u001b[1;32m-> <a href='file:///c%3A/Users/mehmet/Desktop/Engineering/MLE/Projects/Turkish-News-Classification/venv/lib/site-packages/matplotlib/artist.py?line=1063'>1064</a>\u001b[0m                 \u001b[39mraise\u001b[39;00m \u001b[39mAttributeError\u001b[39;00m(\u001b[39mf\u001b[39m\u001b[39m\"\u001b[39m\u001b[39m{\u001b[39;00m\u001b[39mtype\u001b[39m(\u001b[39mself\u001b[39m)\u001b[39m.\u001b[39m\u001b[39m__name__\u001b[39m\u001b[39m!r}\u001b[39;00m\u001b[39m object \u001b[39m\u001b[39m\"\u001b[39m\n\u001b[0;32m   <a href='file:///c%3A/Users/mehmet/Desktop/Engineering/MLE/Projects/Turkish-News-Classification/venv/lib/site-packages/matplotlib/artist.py?line=1064'>1065</a>\u001b[0m                                      \u001b[39mf\u001b[39m\u001b[39m\"\u001b[39m\u001b[39mhas no property \u001b[39m\u001b[39m{\u001b[39;00mk\u001b[39m!r}\u001b[39;00m\u001b[39m\"\u001b[39m)\n\u001b[0;32m   <a href='file:///c%3A/Users/mehmet/Desktop/Engineering/MLE/Projects/Turkish-News-Classification/venv/lib/site-packages/matplotlib/artist.py?line=1065'>1066</a>\u001b[0m             ret\u001b[39m.\u001b[39mappend(func(v))\n\u001b[0;32m   <a href='file:///c%3A/Users/mehmet/Desktop/Engineering/MLE/Projects/Turkish-News-Classification/venv/lib/site-packages/matplotlib/artist.py?line=1066'>1067</a>\u001b[0m \u001b[39mif\u001b[39;00m ret:\n",
      "\u001b[1;31mAttributeError\u001b[0m: 'QuadMesh' object has no property 'xticklables'"
     ]
    },
    {
     "data": {
      "image/png": "[encoded data removed]",
      "text/plain": [
       "<Figure size 864x864 with 1 Axes>"
      ]
     },
     "metadata": {
      "needs_background": "light"
     },
     "output_type": "display_data"
    }
   ],
   "source": [
    "import pandas as pd\n",
    "import seaborn as sn\n",
    "import matplotlib.pyplot as plt\n",
    "\n",
    "print(y_pred_1d)\n",
    "\n",
    "confusion_matrix = pd.crosstab(y_test_1d, y_pred_1d, rownames=['Actual'], colnames=['Predicted'])\n",
    "plt.figure(figsize=(12, 12))\n",
    "sn.heatmap(confusion_matrix, annot=True, xticklabels=x_axis_labels, yticklabels=y_axis_labels)\n",
    "plt.show()\n"
   ]
  }
 ],
 "metadata": {
  "interpreter": {
   "hash": "f9116120a73e4c85693ba75cec13d1495ad1ecdb600f953e70464207228840cc"
  },
  "kernelspec": {
   "display_name": "Python 3.10.1 ('venv': venv)",
   "language": "python",
   "name": "python3"
  },
  "language_info": {
   "codemirror_mode": {
    "name": "ipython",
    "version": 3
   },
   "file_extension": ".py",
   "mimetype": "text/x-python",
   "name": "python",
   "nbconvert_exporter": "python",
   "pygments_lexer": "ipython3",
   "version": "3.9.10"
  },
  "orig_nbformat": 4
 },
 "nbformat": 4,
 "nbformat_minor": 2
}

{
 "cells": [
  {
   "cell_type": "code",
   "execution_count": 1,
   "metadata": {},
   "outputs": [],
   "source": [
    "import json \n",
    "\n",
    "# loadijg dataset\n",
    "dataset = json.load(open(\"Dataset/tf-idf-dataset.json\", \"r\"))"
   ]
  },
  {
   "cell_type": "code",
   "execution_count": 3,
   "metadata": {},
   "outputs": [
    {
     "name": "stdout",
     "output_type": "stream",
     "text": [
      "total dataset length: 42663\n"
     ]
    }
   ],
   "source": [
    "import numpy as np\n",
    "\n",
    "from sklearn.model_selection import train_test_split\n",
    "\n",
    "\n",
    "X = []\n",
    "y = []\n",
    "classes = dataset[\"Class_Names\"]\n",
    "\n",
    "# extracting X and y from json dataset\n",
    "for data in dataset[\"Dataset\"]:\n",
    "    X.append(data[\"x\"])\n",
    "    y.append(data[\"y\"])\n",
    "\n",
    "print(f\"total dataset length: {len(X)}\")\n",
    "\n",
    "X = np.array(X)\n",
    "y = np.array(y)\n",
    "\n",
    "# spliting dataset\n",
    "x_train, x_test, y_train, y_test = train_test_split(X, y, test_size=0.3, random_state=42)\n"
   ]
  },
  {
   "cell_type": "code",
   "execution_count": 6,
   "metadata": {},
   "outputs": [
    {
     "name": "stdout",
     "output_type": "stream",
     "text": [
      "(29864, 5000)\n",
      "(29864, 8)\n"
     ]
    }
   ],
   "source": [
    "print(x_train.shape)\n",
    "print(y_train.shape)"
   ]
  },
  {
   "cell_type": "code",
   "execution_count": null,
   "metadata": {},
   "outputs": [],
   "source": [
    "\n",
    "import matplotlib.pyplot as plt\n",
    "import seaborn as sns"
   ]
  },
  {
   "cell_type": "code",
   "execution_count": 7,
   "metadata": {},
   "outputs": [],
   "source": [
    "from keras import backend as K\n",
    "\n",
    "def recall(y_true, y_pred):\n",
    "    true_positives = K.sum(K.round(K.clip(y_true * y_pred, 0, 1)))\n",
    "    possible_positives = K.sum(K.round(K.clip(y_true, 0, 1)))\n",
    "    recall = true_positives / (possible_positives + K.epsilon())\n",
    "    return recall\n",
    "\n",
    "def precision(y_true, y_pred):\n",
    "    true_positives = K.sum(K.round(K.clip(y_true * y_pred, 0, 1)))\n",
    "    predicted_positives = K.sum(K.round(K.clip(y_pred, 0, 1)))\n",
    "    precision = true_positives / (predicted_positives + K.epsilon())\n",
    "    return precision"
   ]
  },
  {
   "cell_type": "code",
   "execution_count": 10,
   "metadata": {},
   "outputs": [
    {
     "name": "stdout",
     "output_type": "stream",
     "text": [
      "Model: \"sequential_2\"\n",
      "_________________________________________________________________\n",
      " Layer (type)                Output Shape              Param #   \n",
      "=================================================================\n",
      " dense_8 (Dense)             (None, 1000)              5001000   \n",
      "                                                                 \n",
      " activation_8 (Activation)   (None, 1000)              0         \n",
      "                                                                 \n",
      " dense_9 (Dense)             (None, 500)               500500    \n",
      "                                                                 \n",
      " activation_9 (Activation)   (None, 500)               0         \n",
      "                                                                 \n",
      " dense_10 (Dense)            (None, 200)               100200    \n",
      "                                                                 \n",
      " activation_10 (Activation)  (None, 200)               0         \n",
      "                                                                 \n",
      " dense_11 (Dense)            (None, 8)                 1608      \n",
      "                                                                 \n",
      " activation_11 (Activation)  (None, 8)                 0         \n",
      "                                                                 \n",
      "=================================================================\n",
      "Total params: 5,603,308\n",
      "Trainable params: 5,603,308\n",
      "Non-trainable params: 0\n",
      "_________________________________________________________________\n",
      "None\n",
      "Epoch 1/10\n",
      "234/234 [==============================] - 3s 11ms/step - loss: 0.5101 - accuracy: 0.8320 - recall: 0.7750 - precision: 0.8540 - val_loss: 0.3569 - val_accuracy: 0.8747 - val_recall: 0.8524 - val_precision: 0.8973\n",
      "Epoch 2/10\n",
      "234/234 [==============================] - 2s 9ms/step - loss: 0.2069 - accuracy: 0.9255 - recall: 0.9167 - precision: 0.9345 - val_loss: 0.4078 - val_accuracy: 0.8698 - val_recall: 0.8603 - val_precision: 0.8805\n",
      "Epoch 3/10\n",
      "234/234 [==============================] - 2s 9ms/step - loss: 0.0998 - accuracy: 0.9658 - recall: 0.9638 - precision: 0.9681 - val_loss: 0.4861 - val_accuracy: 0.8683 - val_recall: 0.8632 - val_precision: 0.8753\n",
      "Epoch 4/10\n",
      "234/234 [==============================] - 2s 10ms/step - loss: 0.0438 - accuracy: 0.9857 - recall: 0.9851 - precision: 0.9863 - val_loss: 0.6083 - val_accuracy: 0.8615 - val_recall: 0.8587 - val_precision: 0.8663\n",
      "Epoch 5/10\n",
      "234/234 [==============================] - 2s 10ms/step - loss: 0.0289 - accuracy: 0.9913 - recall: 0.9912 - precision: 0.9915 - val_loss: 0.6832 - val_accuracy: 0.8628 - val_recall: 0.8614 - val_precision: 0.8666\n",
      "Epoch 6/10\n",
      "234/234 [==============================] - 2s 9ms/step - loss: 0.0207 - accuracy: 0.9935 - recall: 0.9935 - precision: 0.9938 - val_loss: 0.7273 - val_accuracy: 0.8688 - val_recall: 0.8673 - val_precision: 0.8720\n",
      "Epoch 7/10\n",
      "234/234 [==============================] - 2s 9ms/step - loss: 0.0161 - accuracy: 0.9943 - recall: 0.9942 - precision: 0.9945 - val_loss: 0.7968 - val_accuracy: 0.8633 - val_recall: 0.8619 - val_precision: 0.8657\n",
      "Epoch 8/10\n",
      "234/234 [==============================] - 2s 8ms/step - loss: 0.0155 - accuracy: 0.9942 - recall: 0.9940 - precision: 0.9943 - val_loss: 0.8102 - val_accuracy: 0.8637 - val_recall: 0.8622 - val_precision: 0.8666\n",
      "Epoch 9/10\n",
      "234/234 [==============================] - 2s 9ms/step - loss: 0.0119 - accuracy: 0.9953 - recall: 0.9952 - precision: 0.9955 - val_loss: 0.8354 - val_accuracy: 0.8601 - val_recall: 0.8582 - val_precision: 0.8624\n",
      "Epoch 10/10\n",
      "234/234 [==============================] - 2s 9ms/step - loss: 0.0127 - accuracy: 0.9951 - recall: 0.9950 - precision: 0.9953 - val_loss: 0.8932 - val_accuracy: 0.8635 - val_recall: 0.8620 - val_precision: 0.8660\n"
     ]
    }
   ],
   "source": [
    "## training ANN with keras\n",
    "\n",
    "from keras.models import Sequential, load_model\n",
    "from keras.layers.core import Dense, Dropout, Activation\n",
    "\n",
    "\n",
    "model = Sequential()\n",
    "model.add(Dense(1000, input_shape=(5000,)))\n",
    "model.add(Activation('relu'))\n",
    "model.add(Dense(500))\n",
    "model.add(Activation('relu'))\n",
    "model.add(Dense(200))\n",
    "model.add(Activation('relu'))\n",
    "model.add(Dense(len(classes))) # output layer\n",
    "model.add(Activation('softmax'))\n",
    "model.compile(loss='categorical_crossentropy', optimizer='adam', metrics=['accuracy', recall, precision])\n",
    "print(model.summary())\n",
    "\n",
    "model.fit(x_train, y_train, validation_data=(x_test, y_test), batch_size=128, epochs=10, verbose=1)\n",
    "model.save(f\"Models/keras_ann_v1.h5\")\n"
   ]
  },
  {
   "cell_type": "code",
   "execution_count": 11,
   "metadata": {},
   "outputs": [],
   "source": [
    "# getting y_red for x_test i want to see test set precission, classification_report and confusion_matrix\n",
    "y_pred = model.predict(x_test)\n"
   ]
  },
  {
   "cell_type": "code",
   "execution_count": 14,
   "metadata": {},
   "outputs": [
    {
     "ename": "TypeError",
     "evalue": "Singleton array 6 cannot be considered a valid collection.",
     "output_type": "error",
     "traceback": [
      "\u001b[1;31m---------------------------------------------------------------------------\u001b[0m",
      "\u001b[1;31mTypeError\u001b[0m                                 Traceback (most recent call last)",
      "\u001b[1;32mc:\\Users\\mehmet\\Desktop\\Engineering\\MLE\\Projects\\Turkish-News-Classification\\Train.ipynb Cell 8'\u001b[0m in \u001b[0;36m<module>\u001b[1;34m\u001b[0m\n\u001b[0;32m      <a href='vscode-notebook-cell:/c%3A/Users/mehmet/Desktop/Engineering/MLE/Projects/Turkish-News-Classification/Train.ipynb#ch0000014?line=0'>1</a>\u001b[0m \u001b[39mfrom\u001b[39;00m \u001b[39msklearn\u001b[39;00m\u001b[39m.\u001b[39;00m\u001b[39mmetrics\u001b[39;00m \u001b[39mimport\u001b[39;00m accuracy_score, confusion_matrix, f1_score, classification_report\n\u001b[0;32m      <a href='vscode-notebook-cell:/c%3A/Users/mehmet/Desktop/Engineering/MLE/Projects/Turkish-News-Classification/Train.ipynb#ch0000014?line=2'>3</a>\u001b[0m \u001b[39m# np.argmax() gets max argument index of y list\u001b[39;00m\n\u001b[0;32m      <a href='vscode-notebook-cell:/c%3A/Users/mehmet/Desktop/Engineering/MLE/Projects/Turkish-News-Classification/Train.ipynb#ch0000014?line=3'>4</a>\u001b[0m \u001b[39m# example argmax to [0, 0, 1, 0] result will be 2 (class index) \u001b[39;00m\n\u001b[1;32m----> <a href='vscode-notebook-cell:/c%3A/Users/mehmet/Desktop/Engineering/MLE/Projects/Turkish-News-Classification/Train.ipynb#ch0000014?line=4'>5</a>\u001b[0m test_accuracy_score \u001b[39m=\u001b[39m accuracy_score(np\u001b[39m.\u001b[39;49margmax(y_test), np\u001b[39m.\u001b[39;49margmax(y_pred, axis\u001b[39m=\u001b[39;49m\u001b[39m1\u001b[39;49m))\n\u001b[0;32m      <a href='vscode-notebook-cell:/c%3A/Users/mehmet/Desktop/Engineering/MLE/Projects/Turkish-News-Classification/Train.ipynb#ch0000014?line=5'>6</a>\u001b[0m \u001b[39mprint\u001b[39m(\u001b[39mf\u001b[39m\u001b[39m\"\u001b[39m\u001b[39mAccuracy for x_test: \u001b[39m\u001b[39m{\u001b[39;00maccuracy_score\u001b[39m}\u001b[39;00m\u001b[39m\"\u001b[39m)\n",
      "File \u001b[1;32mc:\\Users\\mehmet\\Desktop\\Engineering\\MLE\\Projects\\Turkish-News-Classification\\venv\\lib\\site-packages\\sklearn\\metrics\\_classification.py:211\u001b[0m, in \u001b[0;36maccuracy_score\u001b[1;34m(y_true, y_pred, normalize, sample_weight)\u001b[0m\n\u001b[0;32m    <a href='file:///c%3A/Users/mehmet/Desktop/Engineering/MLE/Projects/Turkish-News-Classification/venv/lib/site-packages/sklearn/metrics/_classification.py?line=144'>145</a>\u001b[0m \u001b[39m\"\"\"Accuracy classification score.\u001b[39;00m\n\u001b[0;32m    <a href='file:///c%3A/Users/mehmet/Desktop/Engineering/MLE/Projects/Turkish-News-Classification/venv/lib/site-packages/sklearn/metrics/_classification.py?line=145'>146</a>\u001b[0m \n\u001b[0;32m    <a href='file:///c%3A/Users/mehmet/Desktop/Engineering/MLE/Projects/Turkish-News-Classification/venv/lib/site-packages/sklearn/metrics/_classification.py?line=146'>147</a>\u001b[0m \u001b[39mIn multilabel classification, this function computes subset accuracy:\u001b[39;00m\n\u001b[1;32m   (...)\u001b[0m\n\u001b[0;32m    <a href='file:///c%3A/Users/mehmet/Desktop/Engineering/MLE/Projects/Turkish-News-Classification/venv/lib/site-packages/sklearn/metrics/_classification.py?line=206'>207</a>\u001b[0m \u001b[39m0.5\u001b[39;00m\n\u001b[0;32m    <a href='file:///c%3A/Users/mehmet/Desktop/Engineering/MLE/Projects/Turkish-News-Classification/venv/lib/site-packages/sklearn/metrics/_classification.py?line=207'>208</a>\u001b[0m \u001b[39m\"\"\"\u001b[39;00m\n\u001b[0;32m    <a href='file:///c%3A/Users/mehmet/Desktop/Engineering/MLE/Projects/Turkish-News-Classification/venv/lib/site-packages/sklearn/metrics/_classification.py?line=209'>210</a>\u001b[0m \u001b[39m# Compute accuracy for each possible representation\u001b[39;00m\n\u001b[1;32m--> <a href='file:///c%3A/Users/mehmet/Desktop/Engineering/MLE/Projects/Turkish-News-Classification/venv/lib/site-packages/sklearn/metrics/_classification.py?line=210'>211</a>\u001b[0m y_type, y_true, y_pred \u001b[39m=\u001b[39m _check_targets(y_true, y_pred)\n\u001b[0;32m    <a href='file:///c%3A/Users/mehmet/Desktop/Engineering/MLE/Projects/Turkish-News-Classification/venv/lib/site-packages/sklearn/metrics/_classification.py?line=211'>212</a>\u001b[0m check_consistent_length(y_true, y_pred, sample_weight)\n\u001b[0;32m    <a href='file:///c%3A/Users/mehmet/Desktop/Engineering/MLE/Projects/Turkish-News-Classification/venv/lib/site-packages/sklearn/metrics/_classification.py?line=212'>213</a>\u001b[0m \u001b[39mif\u001b[39;00m y_type\u001b[39m.\u001b[39mstartswith(\u001b[39m\"\u001b[39m\u001b[39mmultilabel\u001b[39m\u001b[39m\"\u001b[39m):\n",
      "File \u001b[1;32mc:\\Users\\mehmet\\Desktop\\Engineering\\MLE\\Projects\\Turkish-News-Classification\\venv\\lib\\site-packages\\sklearn\\metrics\\_classification.py:84\u001b[0m, in \u001b[0;36m_check_targets\u001b[1;34m(y_true, y_pred)\u001b[0m\n\u001b[0;32m     <a href='file:///c%3A/Users/mehmet/Desktop/Engineering/MLE/Projects/Turkish-News-Classification/venv/lib/site-packages/sklearn/metrics/_classification.py?line=56'>57</a>\u001b[0m \u001b[39mdef\u001b[39;00m \u001b[39m_check_targets\u001b[39m(y_true, y_pred):\n\u001b[0;32m     <a href='file:///c%3A/Users/mehmet/Desktop/Engineering/MLE/Projects/Turkish-News-Classification/venv/lib/site-packages/sklearn/metrics/_classification.py?line=57'>58</a>\u001b[0m     \u001b[39m\"\"\"Check that y_true and y_pred belong to the same classification task.\u001b[39;00m\n\u001b[0;32m     <a href='file:///c%3A/Users/mehmet/Desktop/Engineering/MLE/Projects/Turkish-News-Classification/venv/lib/site-packages/sklearn/metrics/_classification.py?line=58'>59</a>\u001b[0m \n\u001b[0;32m     <a href='file:///c%3A/Users/mehmet/Desktop/Engineering/MLE/Projects/Turkish-News-Classification/venv/lib/site-packages/sklearn/metrics/_classification.py?line=59'>60</a>\u001b[0m \u001b[39m    This converts multiclass or binary types to a common shape, and raises a\u001b[39;00m\n\u001b[1;32m   (...)\u001b[0m\n\u001b[0;32m     <a href='file:///c%3A/Users/mehmet/Desktop/Engineering/MLE/Projects/Turkish-News-Classification/venv/lib/site-packages/sklearn/metrics/_classification.py?line=81'>82</a>\u001b[0m \u001b[39m    y_pred : array or indicator matrix\u001b[39;00m\n\u001b[0;32m     <a href='file:///c%3A/Users/mehmet/Desktop/Engineering/MLE/Projects/Turkish-News-Classification/venv/lib/site-packages/sklearn/metrics/_classification.py?line=82'>83</a>\u001b[0m \u001b[39m    \"\"\"\u001b[39;00m\n\u001b[1;32m---> <a href='file:///c%3A/Users/mehmet/Desktop/Engineering/MLE/Projects/Turkish-News-Classification/venv/lib/site-packages/sklearn/metrics/_classification.py?line=83'>84</a>\u001b[0m     check_consistent_length(y_true, y_pred)\n\u001b[0;32m     <a href='file:///c%3A/Users/mehmet/Desktop/Engineering/MLE/Projects/Turkish-News-Classification/venv/lib/site-packages/sklearn/metrics/_classification.py?line=84'>85</a>\u001b[0m     type_true \u001b[39m=\u001b[39m type_of_target(y_true)\n\u001b[0;32m     <a href='file:///c%3A/Users/mehmet/Desktop/Engineering/MLE/Projects/Turkish-News-Classification/venv/lib/site-packages/sklearn/metrics/_classification.py?line=85'>86</a>\u001b[0m     type_pred \u001b[39m=\u001b[39m type_of_target(y_pred)\n",
      "File \u001b[1;32mc:\\Users\\mehmet\\Desktop\\Engineering\\MLE\\Projects\\Turkish-News-Classification\\venv\\lib\\site-packages\\sklearn\\utils\\validation.py:329\u001b[0m, in \u001b[0;36mcheck_consistent_length\u001b[1;34m(*arrays)\u001b[0m\n\u001b[0;32m    <a href='file:///c%3A/Users/mehmet/Desktop/Engineering/MLE/Projects/Turkish-News-Classification/venv/lib/site-packages/sklearn/utils/validation.py?line=317'>318</a>\u001b[0m \u001b[39mdef\u001b[39;00m \u001b[39mcheck_consistent_length\u001b[39m(\u001b[39m*\u001b[39marrays):\n\u001b[0;32m    <a href='file:///c%3A/Users/mehmet/Desktop/Engineering/MLE/Projects/Turkish-News-Classification/venv/lib/site-packages/sklearn/utils/validation.py?line=318'>319</a>\u001b[0m     \u001b[39m\"\"\"Check that all arrays have consistent first dimensions.\u001b[39;00m\n\u001b[0;32m    <a href='file:///c%3A/Users/mehmet/Desktop/Engineering/MLE/Projects/Turkish-News-Classification/venv/lib/site-packages/sklearn/utils/validation.py?line=319'>320</a>\u001b[0m \n\u001b[0;32m    <a href='file:///c%3A/Users/mehmet/Desktop/Engineering/MLE/Projects/Turkish-News-Classification/venv/lib/site-packages/sklearn/utils/validation.py?line=320'>321</a>\u001b[0m \u001b[39m    Checks whether all objects in arrays have the same shape or length.\u001b[39;00m\n\u001b[1;32m   (...)\u001b[0m\n\u001b[0;32m    <a href='file:///c%3A/Users/mehmet/Desktop/Engineering/MLE/Projects/Turkish-News-Classification/venv/lib/site-packages/sklearn/utils/validation.py?line=325'>326</a>\u001b[0m \u001b[39m        Objects that will be checked for consistent length.\u001b[39;00m\n\u001b[0;32m    <a href='file:///c%3A/Users/mehmet/Desktop/Engineering/MLE/Projects/Turkish-News-Classification/venv/lib/site-packages/sklearn/utils/validation.py?line=326'>327</a>\u001b[0m \u001b[39m    \"\"\"\u001b[39;00m\n\u001b[1;32m--> <a href='file:///c%3A/Users/mehmet/Desktop/Engineering/MLE/Projects/Turkish-News-Classification/venv/lib/site-packages/sklearn/utils/validation.py?line=328'>329</a>\u001b[0m     lengths \u001b[39m=\u001b[39m [_num_samples(X) \u001b[39mfor\u001b[39;00m X \u001b[39min\u001b[39;00m arrays \u001b[39mif\u001b[39;00m X \u001b[39mis\u001b[39;00m \u001b[39mnot\u001b[39;00m \u001b[39mNone\u001b[39;00m]\n\u001b[0;32m    <a href='file:///c%3A/Users/mehmet/Desktop/Engineering/MLE/Projects/Turkish-News-Classification/venv/lib/site-packages/sklearn/utils/validation.py?line=329'>330</a>\u001b[0m     uniques \u001b[39m=\u001b[39m np\u001b[39m.\u001b[39munique(lengths)\n\u001b[0;32m    <a href='file:///c%3A/Users/mehmet/Desktop/Engineering/MLE/Projects/Turkish-News-Classification/venv/lib/site-packages/sklearn/utils/validation.py?line=330'>331</a>\u001b[0m     \u001b[39mif\u001b[39;00m \u001b[39mlen\u001b[39m(uniques) \u001b[39m>\u001b[39m \u001b[39m1\u001b[39m:\n",
      "File \u001b[1;32mc:\\Users\\mehmet\\Desktop\\Engineering\\MLE\\Projects\\Turkish-News-Classification\\venv\\lib\\site-packages\\sklearn\\utils\\validation.py:329\u001b[0m, in \u001b[0;36m<listcomp>\u001b[1;34m(.0)\u001b[0m\n\u001b[0;32m    <a href='file:///c%3A/Users/mehmet/Desktop/Engineering/MLE/Projects/Turkish-News-Classification/venv/lib/site-packages/sklearn/utils/validation.py?line=317'>318</a>\u001b[0m \u001b[39mdef\u001b[39;00m \u001b[39mcheck_consistent_length\u001b[39m(\u001b[39m*\u001b[39marrays):\n\u001b[0;32m    <a href='file:///c%3A/Users/mehmet/Desktop/Engineering/MLE/Projects/Turkish-News-Classification/venv/lib/site-packages/sklearn/utils/validation.py?line=318'>319</a>\u001b[0m     \u001b[39m\"\"\"Check that all arrays have consistent first dimensions.\u001b[39;00m\n\u001b[0;32m    <a href='file:///c%3A/Users/mehmet/Desktop/Engineering/MLE/Projects/Turkish-News-Classification/venv/lib/site-packages/sklearn/utils/validation.py?line=319'>320</a>\u001b[0m \n\u001b[0;32m    <a href='file:///c%3A/Users/mehmet/Desktop/Engineering/MLE/Projects/Turkish-News-Classification/venv/lib/site-packages/sklearn/utils/validation.py?line=320'>321</a>\u001b[0m \u001b[39m    Checks whether all objects in arrays have the same shape or length.\u001b[39;00m\n\u001b[1;32m   (...)\u001b[0m\n\u001b[0;32m    <a href='file:///c%3A/Users/mehmet/Desktop/Engineering/MLE/Projects/Turkish-News-Classification/venv/lib/site-packages/sklearn/utils/validation.py?line=325'>326</a>\u001b[0m \u001b[39m        Objects that will be checked for consistent length.\u001b[39;00m\n\u001b[0;32m    <a href='file:///c%3A/Users/mehmet/Desktop/Engineering/MLE/Projects/Turkish-News-Classification/venv/lib/site-packages/sklearn/utils/validation.py?line=326'>327</a>\u001b[0m \u001b[39m    \"\"\"\u001b[39;00m\n\u001b[1;32m--> <a href='file:///c%3A/Users/mehmet/Desktop/Engineering/MLE/Projects/Turkish-News-Classification/venv/lib/site-packages/sklearn/utils/validation.py?line=328'>329</a>\u001b[0m     lengths \u001b[39m=\u001b[39m [_num_samples(X) \u001b[39mfor\u001b[39;00m X \u001b[39min\u001b[39;00m arrays \u001b[39mif\u001b[39;00m X \u001b[39mis\u001b[39;00m \u001b[39mnot\u001b[39;00m \u001b[39mNone\u001b[39;00m]\n\u001b[0;32m    <a href='file:///c%3A/Users/mehmet/Desktop/Engineering/MLE/Projects/Turkish-News-Classification/venv/lib/site-packages/sklearn/utils/validation.py?line=329'>330</a>\u001b[0m     uniques \u001b[39m=\u001b[39m np\u001b[39m.\u001b[39munique(lengths)\n\u001b[0;32m    <a href='file:///c%3A/Users/mehmet/Desktop/Engineering/MLE/Projects/Turkish-News-Classification/venv/lib/site-packages/sklearn/utils/validation.py?line=330'>331</a>\u001b[0m     \u001b[39mif\u001b[39;00m \u001b[39mlen\u001b[39m(uniques) \u001b[39m>\u001b[39m \u001b[39m1\u001b[39m:\n",
      "File \u001b[1;32mc:\\Users\\mehmet\\Desktop\\Engineering\\MLE\\Projects\\Turkish-News-Classification\\venv\\lib\\site-packages\\sklearn\\utils\\validation.py:269\u001b[0m, in \u001b[0;36m_num_samples\u001b[1;34m(x)\u001b[0m\n\u001b[0;32m    <a href='file:///c%3A/Users/mehmet/Desktop/Engineering/MLE/Projects/Turkish-News-Classification/venv/lib/site-packages/sklearn/utils/validation.py?line=266'>267</a>\u001b[0m \u001b[39mif\u001b[39;00m \u001b[39mhasattr\u001b[39m(x, \u001b[39m\"\u001b[39m\u001b[39mshape\u001b[39m\u001b[39m\"\u001b[39m) \u001b[39mand\u001b[39;00m x\u001b[39m.\u001b[39mshape \u001b[39mis\u001b[39;00m \u001b[39mnot\u001b[39;00m \u001b[39mNone\u001b[39;00m:\n\u001b[0;32m    <a href='file:///c%3A/Users/mehmet/Desktop/Engineering/MLE/Projects/Turkish-News-Classification/venv/lib/site-packages/sklearn/utils/validation.py?line=267'>268</a>\u001b[0m     \u001b[39mif\u001b[39;00m \u001b[39mlen\u001b[39m(x\u001b[39m.\u001b[39mshape) \u001b[39m==\u001b[39m \u001b[39m0\u001b[39m:\n\u001b[1;32m--> <a href='file:///c%3A/Users/mehmet/Desktop/Engineering/MLE/Projects/Turkish-News-Classification/venv/lib/site-packages/sklearn/utils/validation.py?line=268'>269</a>\u001b[0m         \u001b[39mraise\u001b[39;00m \u001b[39mTypeError\u001b[39;00m(\n\u001b[0;32m    <a href='file:///c%3A/Users/mehmet/Desktop/Engineering/MLE/Projects/Turkish-News-Classification/venv/lib/site-packages/sklearn/utils/validation.py?line=269'>270</a>\u001b[0m             \u001b[39m\"\u001b[39m\u001b[39mSingleton array \u001b[39m\u001b[39m%r\u001b[39;00m\u001b[39m cannot be considered a valid collection.\u001b[39m\u001b[39m\"\u001b[39m \u001b[39m%\u001b[39m x\n\u001b[0;32m    <a href='file:///c%3A/Users/mehmet/Desktop/Engineering/MLE/Projects/Turkish-News-Classification/venv/lib/site-packages/sklearn/utils/validation.py?line=270'>271</a>\u001b[0m         )\n\u001b[0;32m    <a href='file:///c%3A/Users/mehmet/Desktop/Engineering/MLE/Projects/Turkish-News-Classification/venv/lib/site-packages/sklearn/utils/validation.py?line=271'>272</a>\u001b[0m     \u001b[39m# Check that shape is returning an integer or default to len\u001b[39;00m\n\u001b[0;32m    <a href='file:///c%3A/Users/mehmet/Desktop/Engineering/MLE/Projects/Turkish-News-Classification/venv/lib/site-packages/sklearn/utils/validation.py?line=272'>273</a>\u001b[0m     \u001b[39m# Dask dataframes may not return numeric shape[0] value\u001b[39;00m\n\u001b[0;32m    <a href='file:///c%3A/Users/mehmet/Desktop/Engineering/MLE/Projects/Turkish-News-Classification/venv/lib/site-packages/sklearn/utils/validation.py?line=273'>274</a>\u001b[0m     \u001b[39mif\u001b[39;00m \u001b[39misinstance\u001b[39m(x\u001b[39m.\u001b[39mshape[\u001b[39m0\u001b[39m], numbers\u001b[39m.\u001b[39mIntegral):\n",
      "\u001b[1;31mTypeError\u001b[0m: Singleton array 6 cannot be considered a valid collection."
     ]
    }
   ],
   "source": [
    "from sklearn.metrics import accuracy_score, confusion_matrix, f1_score, classification_report\n",
    "\n",
    "# np.argmax() gets max argument index of y list\n",
    "# example argmax to [0, 0, 1, 0] result will be 2 (class index) \n",
    "test_accuracy_score = accuracy_score(np.argmax(y_test), np.argmax(y_pred, axis=1))\n",
    "print(f\"Accuracy for x_test: {accuracy_score}\")\n",
    "# print(confusion_matrix())\n",
    "# print(f1_score())"
   ]
  },
  {
   "cell_type": "code",
   "execution_count": null,
   "metadata": {},
   "outputs": [],
   "source": []
  }
 ],
 "metadata": {
  "interpreter": {
   "hash": "f9116120a73e4c85693ba75cec13d1495ad1ecdb600f953e70464207228840cc"
  },
  "kernelspec": {
   "display_name": "Python 3.10.1 ('venv': venv)",
   "language": "python",
   "name": "python3"
  },
  "language_info": {
   "codemirror_mode": {
    "name": "ipython",
    "version": 3
   },
   "file_extension": ".py",
   "mimetype": "text/x-python",
   "name": "python",
   "nbconvert_exporter": "python",
   "pygments_lexer": "ipython3",
   "version": "3.9.10"
  },
  "orig_nbformat": 4
 },
 "nbformat": 4,
 "nbformat_minor": 2
}
